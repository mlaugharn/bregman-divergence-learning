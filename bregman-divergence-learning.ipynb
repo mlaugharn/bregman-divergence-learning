{
 "cells": [
  {
   "cell_type": "code",
   "execution_count": 1,
   "id": "d4895af6-4ee2-4f06-8dd2-4c691c5f8ff4",
   "metadata": {},
   "outputs": [],
   "source": [
    "import numpy as np"
   ]
  },
  {
   "cell_type": "code",
   "execution_count": 164,
   "id": "3cf56b7f-6b57-4f4a-a879-e7d8ad5f4429",
   "metadata": {},
   "outputs": [],
   "source": [
    "import torch\n",
    "\n",
    "class BregmanSubnet(torch.nn.Module):\n",
    "    def __init__(self, input_dim, hidden_dims):\n",
    "        super(BregmanSubnet, self).__init__()\n",
    "        dims = [input_dim] + hidden_dims + [1]\n",
    "        self.layers = [\n",
    "            torch.nn.Linear(input_dim, hidden_dims[0]),\n",
    "#             torch.nn.ReLU(),\n",
    "            torch.nn.Linear(hidden_dims[0], hidden_dims[1]),\n",
    "#             torch.nn.ReLU(),\n",
    "            torch.nn.Linear(hidden_dims[1], 1),\n",
    "        ]\n",
    "        self.layers = torch.nn.Sequential(*self.layers)\n",
    "    \n",
    "    def forward(self, x):\n",
    "#         print(self.layers(x).shape)\n",
    "        return self.layers(x)\n",
    "    \n",
    "class BregmanLearner(torch.nn.Module):\n",
    "    def __init__(self, input_dim, hidden_dims, subnets):\n",
    "        super(BregmanLearner, self).__init__()\n",
    "        dims = [input_dim] + hidden_dims\n",
    "        self.layers = [\n",
    "            torch.nn.Linear(input_dim, hidden_dims[0]),\n",
    "            torch.nn.ReLU(),\n",
    "            torch.nn.Linear(hidden_dims[0], hidden_dims[1]),\n",
    "            torch.nn.ReLU(),\n",
    "            torch.nn.Linear(hidden_dims[1],hidden_dims[2]),\n",
    "        ]                    \n",
    "        self.layers = torch.nn.Sequential(*self.layers)\n",
    "        self.heads = subnets\n",
    "    \n",
    "    def forward(self, x):\n",
    "        h = self.layers(x)\n",
    "        return torch.cat([head(h) for head in self.heads], dim=-1)\n",
    "\n",
    "from pytorch_metric_learning import losses\n",
    "from pytorch_metric_learning import distances\n",
    "\n",
    "# class SameMaxDivergence(distances.BaseDistance):\n",
    "#     def __init__(self, *args, **kwargs):\n",
    "#         super(SameMaxDivergence, self).__init__(*args, **kwargs)\n",
    "        \n",
    "#     def compute_mat(self, query_emb, ref_emb):\n",
    "#         q_max_idxs = torch.argmax(query_emb, dim=-1)\n",
    "#         r_max_idxs = torch.argmax(ref_emb, dim=-1)\n",
    "#         qm = q_max_idxs[:, None]\n",
    "#         rm = r_max_idxs[None, :]\n",
    "#         mask = torch.where(qm - rm == 0, 0, 1).float()\n",
    "\n",
    "#         return  mask * ((query_emb[:, None, :] - ref_emb[None, :, :])**2).sum(dim=-1)\n",
    "# #         return  ((query_emb[:, None, :] - ref_emb[None, :, :])**self.p).sum(dim=-1)\n",
    "    \n",
    "#     def pairwise_distance(self, query_emb, ref_emb):\n",
    "# #         q = torch.rand(10,5).float()\n",
    "# #         r = torch.rand(10,5).float()\n",
    "#         q_max_idxs = torch.argmax(query_emb, dim=-1)\n",
    "#         r_max_idxs = torch.argmax(ref_emb, dim=-1)\n",
    "#         mask = torch.where(q_max_idxs - r_max_idxs == 0, 0, 1)\n",
    "# #         mask = 1\n",
    "#         return mask * torch.nn.functional.pairwise_distance(query_emb, ref_emb, p=self.p)\n",
    "\n",
    "# TODO this is wrong\n",
    "# instead of doing 0 for if same class and normal otherwise\n",
    "# need to do\n",
    "# p* = argmax D(x)\n",
    "# q* = argmax D(y)\n",
    "# find output of D(x) @ q*\n",
    "\n",
    "def train_bregman_distance(n_classes, dataloader):\n",
    "    \n",
    "    bregman_input_dim = dataloader.dataset.X.shape[1]\n",
    "    bregman_hidden_dims = [100, 50, 10]\n",
    "    n_subnets = n_classes\n",
    "    subnets_input_dim = bregman_hidden_dims[-1]\n",
    "    subnets_dim = [10, 10]\n",
    "    subnets = [BregmanSubnet(subnets_input_dim, subnets_dim) for _ in range(n_subnets)]\n",
    "    embedder = BregmanLearner(bregman_input_dim, bregman_hidden_dims, subnets)\n",
    "    \n",
    "    optimizer = torch.optim.Adam(lr=1e-2, params=embedder.parameters())\n",
    "    def dist_fn(x, y):\n",
    "        v_x = embedder(x)\n",
    "        v_y = embedder(y)\n",
    "        phi_x, p_star = torch.max(v_x, dim=-1)\n",
    "        phi_y, q_star = torch.max(v_y, dim=-1)\n",
    "        return (phi_x - v_x[:, q_star])**2\n",
    "    \n",
    "    loss_func = torch.nn.TripletMarginWithDistanceLoss(distance_function=dist_fn, margin=1)#losses.TripletMarginLoss()#distance=SameMaxDivergence())\n",
    "    \n",
    "    for epoch in range(100):\n",
    "        for i, (anchor, positive, negative) in enumerate(dataloader):\n",
    "            optimizer.zero_grad()\n",
    "            \n",
    "#             anchor = embedder(anchor.float())\n",
    "#             positive = embedder(positive.float())\n",
    "#             negative = embedder(negative.float())\n",
    "            loss = loss_func(anchor.float(), positive.float(), negative.float())\n",
    "#             print(labels)\n",
    "            print(loss.item())\n",
    "            loss.backward()\n",
    "            optimizer.step()\n",
    "    return embedder, dist_fn"
   ]
  },
  {
   "cell_type": "code",
   "execution_count": 165,
   "id": "71302830-48d6-432b-bb43-3803784236c5",
   "metadata": {},
   "outputs": [],
   "source": [
    "from sklearn import datasets\n",
    "import random\n",
    "class IrisTripletDataset(torch.utils.data.Dataset):\n",
    "    def __init__(self):\n",
    "        iris = datasets.load_iris()\n",
    "        self.X = iris.data[:, :]\n",
    "        \n",
    "        self.labels = iris.target\n",
    "        self.all_classes = set(self.labels)\n",
    "        \n",
    "        self.by_label = {}\n",
    "        for idx, (x, label) in enumerate(zip(self.X, self.labels)):\n",
    "            if label not in self.by_label: self.by_label[label]=[]\n",
    "            self.by_label[label].append(idx)\n",
    "    \n",
    "    def __len__(self):\n",
    "        return len(self.X)\n",
    "    \n",
    "    def __getitem__(self, idx):\n",
    "        # anchor, positive, negative\n",
    "        label = self.labels[idx]\n",
    "        negative_classes = list(self.all_classes - {label})\n",
    "        negative = random.choice(negative_classes)\n",
    "        return self.X[idx], self.X[random.choice(self.by_label[label])], self.X[random.choice(self.by_label[negative])]\n",
    "        \n",
    "ds = IrisTripletDataset()\n",
    "# dl = torch.utils.data.DataLoader(ds, batch_size=5)\n",
    "dl = torch.utils.data.DataLoader(ds, batch_size=len(ds.X))"
   ]
  },
  {
   "cell_type": "code",
   "execution_count": 166,
   "id": "45ffdc16-8ba0-43a2-b21d-6d43a9a09ff0",
   "metadata": {},
   "outputs": [
    {
     "name": "stdout",
     "output_type": "stream",
     "text": [
      "0.9996938109397888\n",
      "1.0\n",
      "1.0\n",
      "1.0\n",
      "1.0\n",
      "1.0\n",
      "1.0\n",
      "1.0\n",
      "1.0\n",
      "1.0\n",
      "1.0\n",
      "1.0\n",
      "1.0\n",
      "1.0\n",
      "1.0\n",
      "1.0\n",
      "1.0\n",
      "1.0\n",
      "1.0\n",
      "1.0\n",
      "1.0\n",
      "1.0\n",
      "1.0\n",
      "1.0\n",
      "1.0\n",
      "1.0\n",
      "1.0\n",
      "1.0\n",
      "1.0\n",
      "1.0\n",
      "1.0\n",
      "1.0\n",
      "1.0\n",
      "1.0\n",
      "1.0\n",
      "1.0\n",
      "1.0\n",
      "1.0\n",
      "1.0\n",
      "1.0\n",
      "1.0\n",
      "1.0\n",
      "1.0\n",
      "1.0\n",
      "1.0\n",
      "1.0\n",
      "1.0\n",
      "1.0\n",
      "1.0\n",
      "1.0\n",
      "1.0\n",
      "1.0\n",
      "1.0\n",
      "1.0\n",
      "1.0\n",
      "1.0\n",
      "1.0\n",
      "1.0\n",
      "1.0\n",
      "1.0\n",
      "1.0\n",
      "1.0\n",
      "1.0\n",
      "1.0\n",
      "1.0\n",
      "1.0\n",
      "1.0\n",
      "1.0\n",
      "1.0\n",
      "1.0\n",
      "1.0\n",
      "1.0\n",
      "1.0\n",
      "1.0\n",
      "1.0\n",
      "1.0\n",
      "1.0\n",
      "1.0\n",
      "1.0\n",
      "1.0\n",
      "1.0\n",
      "1.0\n",
      "1.0\n",
      "1.0\n",
      "1.0\n",
      "1.0\n",
      "1.0\n",
      "1.0\n",
      "1.0\n",
      "1.0\n",
      "1.0\n",
      "1.0\n",
      "1.0\n",
      "1.0\n",
      "1.0\n",
      "1.0\n",
      "1.0\n",
      "1.0\n",
      "1.0\n",
      "1.0\n"
     ]
    }
   ],
   "source": [
    "n_classes = len(set(ds.labels))\n",
    "embedder, dist_fn = train_bregman_distance(n_classes, dl)"
   ]
  },
  {
   "cell_type": "code",
   "execution_count": 167,
   "id": "36bb72dd-72f9-4e84-8430-232ecc2c5b81",
   "metadata": {},
   "outputs": [
    {
     "data": {
      "text/plain": [
       "tensor([[0.0000e+00, 3.0009e-02, 3.3293e-02,  ..., 9.2317e-02, 9.9879e-02,\n",
       "         1.5783e-02],\n",
       "        [3.0009e-02, 0.0000e+00, 8.5200e-05,  ..., 2.2760e-01, 2.3938e-01,\n",
       "         8.9320e-02],\n",
       "        [3.3293e-02, 8.5200e-05, 0.0000e+00,  ..., 2.3649e-01, 2.4850e-01,\n",
       "         9.4922e-02],\n",
       "        ...,\n",
       "        [9.2317e-02, 2.2760e-01, 2.3649e-01,  ..., 0.0000e+00, 1.4880e-04,\n",
       "         3.1757e-02],\n",
       "        [9.9879e-02, 2.3938e-01, 2.4850e-01,  ..., 1.4880e-04, 0.0000e+00,\n",
       "         3.6253e-02],\n",
       "        [1.5783e-02, 8.9320e-02, 9.4922e-02,  ..., 3.1757e-02, 3.6253e-02,\n",
       "         0.0000e+00]], grad_fn=<PowBackward0>)"
      ]
     },
     "execution_count": 167,
     "metadata": {},
     "output_type": "execute_result"
    }
   ],
   "source": [
    "dist_fn(torch.tensor(ds.X).float(), torch.tensor(ds.X).float())"
   ]
  },
  {
   "cell_type": "code",
   "execution_count": 168,
   "id": "3c99352b-c08f-4c61-a705-0cb042c21857",
   "metadata": {},
   "outputs": [],
   "source": [
    "## distances.LpDistance()(torch.tensor([[1,2,3]]).float(),torch.tensor([[4,5,6]]).float())"
   ]
  },
  {
   "cell_type": "code",
   "execution_count": 169,
   "id": "eb9caf1c-c514-402e-9803-7058d4df2055",
   "metadata": {},
   "outputs": [],
   "source": [
    "# SameMaxDivergence().compute_mat(torch.tensor(ds.X).float(), torch.tensor(ds.X).float())"
   ]
  },
  {
   "cell_type": "code",
   "execution_count": 170,
   "id": "fc604c1d-4fb0-4477-8aae-5211f302fac8",
   "metadata": {},
   "outputs": [],
   "source": [
    "embedded_X = embedder(torch.tensor(ds.X).float()).detach().numpy()"
   ]
  },
  {
   "cell_type": "code",
   "execution_count": 171,
   "id": "b8c36113-78ba-458d-8fe5-1c3a9ff4d608",
   "metadata": {},
   "outputs": [
    {
     "data": {
      "application/vnd.jupyter.widget-view+json": {
       "model_id": "8ba21f87f38348e9a649206a51c1b0d9",
       "version_major": 2,
       "version_minor": 0
      },
      "text/plain": [
       "Canvas(toolbar=Toolbar(toolitems=[('Home', 'Reset original view', 'home', 'home'), ('Back', 'Back to previous …"
      ]
     },
     "metadata": {},
     "output_type": "display_data"
    }
   ],
   "source": [
    "import matplotlib.pyplot as plt\n",
    "from mpl_toolkits.mplot3d import Axes3D\n",
    "%matplotlib widget\n",
    "fig = plt.figure()\n",
    "ax = fig.add_subplot(111, projection='3d')\n",
    "ax.scatter(embedded_X[:, 0], embedded_X[:, 1], embedded_X[:, 2], c = ds.labels)\n",
    "plt.show()"
   ]
  },
  {
   "cell_type": "code",
   "execution_count": 172,
   "id": "e541a4f9-def8-4a27-a0fb-6aa15141d53c",
   "metadata": {},
   "outputs": [],
   "source": [
    "import umap.umap_ as umap\n",
    "embeddings = embedder(torch.tensor(ds.X).float()).detach().numpy()\n",
    "mapper = umap.UMAP().fit(embeddings)"
   ]
  },
  {
   "cell_type": "code",
   "execution_count": 173,
   "id": "85ce6283-253f-43bc-be7c-a84a6a9e8760",
   "metadata": {},
   "outputs": [
    {
     "data": {
      "application/vnd.jupyter.widget-view+json": {
       "model_id": "3b276768313449139a9ce8adf8e058cd",
       "version_major": 2,
       "version_minor": 0
      },
      "text/plain": [
       "Canvas(toolbar=Toolbar(toolitems=[('Home', 'Reset original view', 'home', 'home'), ('Back', 'Back to previous …"
      ]
     },
     "metadata": {},
     "output_type": "display_data"
    },
    {
     "data": {
      "text/plain": [
       "<AxesSubplot:>"
      ]
     },
     "execution_count": 173,
     "metadata": {},
     "output_type": "execute_result"
    }
   ],
   "source": [
    "import umap.plot\n",
    "umap.plot.points(mapper, labels=ds.labels)"
   ]
  },
  {
   "cell_type": "code",
   "execution_count": 176,
   "id": "7d2ef90f-097a-4119-a9c6-1adfc43d3dbb",
   "metadata": {},
   "outputs": [
    {
     "ename": "TypeError",
     "evalue": "points() got an unexpected keyword argument 'facecolor'",
     "output_type": "error",
     "traceback": [
      "\u001b[1;31m---------------------------------------------------------------------------\u001b[0m",
      "\u001b[1;31mTypeError\u001b[0m                                 Traceback (most recent call last)",
      "\u001b[1;32m<ipython-input-176-f53d4aebf1db>\u001b[0m in \u001b[0;36m<module>\u001b[1;34m\u001b[0m\n\u001b[0;32m      1\u001b[0m \u001b[0mumap_embeds\u001b[0m \u001b[1;33m=\u001b[0m \u001b[0mumap\u001b[0m\u001b[1;33m.\u001b[0m\u001b[0mumap_\u001b[0m\u001b[1;33m.\u001b[0m\u001b[0mUMAP\u001b[0m\u001b[1;33m(\u001b[0m\u001b[1;33m)\u001b[0m\u001b[1;33m.\u001b[0m\u001b[0mfit\u001b[0m\u001b[1;33m(\u001b[0m\u001b[0mds\u001b[0m\u001b[1;33m.\u001b[0m\u001b[0mX\u001b[0m\u001b[1;33m)\u001b[0m\u001b[1;33m\u001b[0m\u001b[1;33m\u001b[0m\u001b[0m\n\u001b[1;32m----> 2\u001b[1;33m \u001b[0mumap\u001b[0m\u001b[1;33m.\u001b[0m\u001b[0mplot\u001b[0m\u001b[1;33m.\u001b[0m\u001b[0mpoints\u001b[0m\u001b[1;33m(\u001b[0m\u001b[0mumap_embeds\u001b[0m\u001b[1;33m,\u001b[0m \u001b[0mlabels\u001b[0m\u001b[1;33m=\u001b[0m\u001b[0mds\u001b[0m\u001b[1;33m.\u001b[0m\u001b[0mlabels\u001b[0m\u001b[1;33m,\u001b[0m \u001b[0mcmap\u001b[0m\u001b[1;33m=\u001b[0m\u001b[1;33m[\u001b[0m\u001b[1;34m'#000'\u001b[0m\u001b[1;33m,\u001b[0m \u001b[1;34m'#aaa'\u001b[0m\u001b[1;33m,\u001b[0m \u001b[1;34m'#f00'\u001b[0m\u001b[1;33m]\u001b[0m\u001b[1;33m,\u001b[0m \u001b[0mfacecolor\u001b[0m\u001b[1;33m=\u001b[0m\u001b[1;34m'b'\u001b[0m\u001b[1;33m)\u001b[0m\u001b[1;33m\u001b[0m\u001b[1;33m\u001b[0m\u001b[0m\n\u001b[0m",
      "\u001b[1;31mTypeError\u001b[0m: points() got an unexpected keyword argument 'facecolor'"
     ]
    }
   ],
   "source": [
    "umap_embeds = umap.umap_.UMAP().fit(ds.X)\n",
    "umap.plot.points(umap_embeds, labels=ds.labels, cmap=['#000', '#aaa', '#f00'], facecolor='b')"
   ]
  },
  {
   "cell_type": "code",
   "execution_count": null,
   "id": "6ce0794d-a1af-410b-9c3f-8f5a6ac1f5cf",
   "metadata": {},
   "outputs": [],
   "source": []
  }
 ],
 "metadata": {
  "kernelspec": {
   "display_name": "Python 3",
   "language": "python",
   "name": "python3"
  },
  "language_info": {
   "codemirror_mode": {
    "name": "ipython",
    "version": 3
   },
   "file_extension": ".py",
   "mimetype": "text/x-python",
   "name": "python",
   "nbconvert_exporter": "python",
   "pygments_lexer": "ipython3",
   "version": "3.8.8"
  }
 },
 "nbformat": 4,
 "nbformat_minor": 5
}
